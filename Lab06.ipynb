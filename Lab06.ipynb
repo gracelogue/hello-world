{
 "cells": [
  {
   "cell_type": "markdown",
   "metadata": {},
   "source": [
    "* It takes a name input\n",
    "* It takes some other input\n",
    "* It does Something™ with this other input"
   ]
  },
  {
   "cell_type": "code",
   "execution_count": 2,
   "metadata": {},
   "outputs": [
    {
     "name": "stdin",
     "output_type": "stream",
     "text": [
      "enter your name: Grace\n",
      "how old are you? 18\n"
     ]
    },
    {
     "name": "stdout",
     "output_type": "stream",
     "text": [
      "Grace in 10 years you will be 28 -years-old\n"
     ]
    }
   ],
   "source": [
    "name = input(\"enter your name:\")\n",
    "age = input(\"how old are you?\")\n",
    "int_age = int(age)\n",
    "\n",
    "older_age = int_age + 10\n",
    "\n",
    "print(name,\"in 10 years you will be\", older_age, \"years old\")"
   ]
  },
  {
   "cell_type": "code",
   "execution_count": null,
   "metadata": {},
   "outputs": [],
   "source": []
  }
 ],
 "metadata": {
  "kernelspec": {
   "display_name": "Python 3",
   "language": "python",
   "name": "python3"
  },
  "language_info": {
   "codemirror_mode": {
    "name": "ipython",
    "version": 3
   },
   "file_extension": ".py",
   "mimetype": "text/x-python",
   "name": "python",
   "nbconvert_exporter": "python",
   "pygments_lexer": "ipython3",
   "version": "3.8.3"
  }
 },
 "nbformat": 4,
 "nbformat_minor": 4
}
